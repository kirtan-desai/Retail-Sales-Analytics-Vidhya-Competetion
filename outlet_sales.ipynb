{
  "nbformat": 4,
  "nbformat_minor": 0,
  "metadata": {
    "kernelspec": {
      "display_name": "Python 3",
      "language": "python",
      "name": "python3"
    },
    "language_info": {
      "codemirror_mode": {
        "name": "ipython",
        "version": 3
      },
      "file_extension": ".py",
      "mimetype": "text/x-python",
      "name": "python",
      "nbconvert_exporter": "python",
      "pygments_lexer": "ipython3",
      "version": "3.7.6"
    },
    "colab": {
      "name": "outlet_sales.ipynb",
      "provenance": []
    }
  },
  "cells": [
    {
      "cell_type": "code",
      "metadata": {
        "id": "huzo_Kvcl0et",
        "colab_type": "code",
        "colab": {}
      },
      "source": [
        "import pandas as pd\n",
        "import numpy as np\n",
        "import matplotlib.pyplot as plt\n",
        "import seaborn as sns\n",
        "%matplotlib inline\n",
        "import matplotlib\n",
        "from sklearn.preprocessing import LabelEncoder"
      ],
      "execution_count": 0,
      "outputs": []
    },
    {
      "cell_type": "code",
      "metadata": {
        "id": "RjdeqM5Kl0e-",
        "colab_type": "code",
        "colab": {}
      },
      "source": [
        "df = pd.read_csv(\"bmtrain.csv\")"
      ],
      "execution_count": 0,
      "outputs": []
    },
    {
      "cell_type": "code",
      "metadata": {
        "id": "jy3LUw0DmA8b",
        "colab_type": "code",
        "colab": {}
      },
      "source": [
        ""
      ],
      "execution_count": 0,
      "outputs": []
    },
    {
      "cell_type": "code",
      "metadata": {
        "id": "p0HnsP1kl0fJ",
        "colab_type": "code",
        "colab": {}
      },
      "source": [
        "df['Item_Fat_Content'].replace(['Low Fat','LF','low fat'],1,inplace=True)\n",
        "df['Item_Fat_Content'].replace(['Regular','reg'],2,inplace=True)\n",
        "\n",
        "from datetime import date\n",
        "current_year = date.today().year\n",
        "\n",
        "df['Outlet_Establishment_Year'] = current_year - df['Outlet_Establishment_Year'] \n",
        "df['Outlet_Size'].replace({'Small':1,'Medium':2,'High':3},inplace=True)\n",
        "df['Outlet_Location_Type'].replace({'Tier 1':1,'Tier 2':2,'Tier 3':3},inplace=True)\n",
        "df['Outlet_Type'].replace({'Grocery Store':1,'Supermarket Type1':2,'Supermarket Type2':3,'Supermarket Type3':4},inplace=True)"
      ],
      "execution_count": 0,
      "outputs": []
    },
    {
      "cell_type": "code",
      "metadata": {
        "id": "QxW52lIsl0fO",
        "colab_type": "code",
        "colab": {}
      },
      "source": [
        "from sklearn.preprocessing import LabelEncoder\n",
        "le = LabelEncoder()\n",
        "\n",
        "df['Outlet'] = le.fit_transform(df['Outlet_Identifier'])\n",
        "df['Item_Visibility'].replace(0,pd.NA,inplace=True)\n",
        "\n",
        "from sklearn.impute import KNNImputer\n",
        "imputer = KNNImputer()\n",
        "a = imputer.fit_transform(df.drop(columns=['Item_Identifier','Outlet_Identifier','Item_Type']))\n",
        "\n",
        "'''categorical column whose values needed to be rounded off'''\n",
        "c_cat = pd.DataFrame(np.round(a[:,5]),columns=['Outlet_Size'])\n",
        "\n",
        "'''non-categorical columns where value do not need to be and'''\n",
        "c_ncat = pd.DataFrame(a[:,[0,2]],columns=['Item_Weight','Item_Visibility'])\n",
        "\n",
        "df[['Item_Weight','Item_Visibility']] = c_ncat[['Item_Weight','Item_Visibility']]\n",
        "df[['Outlet_Size']] = c_cat[['Outlet_Size']]\n"
      ],
      "execution_count": 0,
      "outputs": []
    },
    {
      "cell_type": "code",
      "metadata": {
        "id": "Iw3exojzl0fV",
        "colab_type": "code",
        "colab": {}
      },
      "source": [
        "'''To create count column for diff features. This helps in adding weights'''\n",
        "\n",
        "for var in ['Outlet_Type']:   \n",
        "    d = df[var].value_counts().to_dict()\n",
        "    c_string = var + '_Count'\n",
        "    df[c_string] = df[var].map(d)"
      ],
      "execution_count": 0,
      "outputs": []
    },
    {
      "cell_type": "code",
      "metadata": {
        "id": "pG5Dt33bl0fa",
        "colab_type": "code",
        "colab": {}
      },
      "source": [
        "#df = pd.DataFrame(np.round(imputer.fit_transform(df.drop(columns=['Item_Identifier','Outlet_Identifier','Item_Type']))),\n",
        "                   #columns = df.drop(columns=['Item_Identifier','Outlet_Identifier','Item_Type']).columns)"
      ],
      "execution_count": 0,
      "outputs": []
    },
    {
      "cell_type": "code",
      "metadata": {
        "id": "KyV2T63Bl0fk",
        "colab_type": "code",
        "colab": {}
      },
      "source": [
        "df =pd.get_dummies(df,columns=['Outlet_Type','Outlet','Outlet_Size']) "
      ],
      "execution_count": 0,
      "outputs": []
    },
    {
      "cell_type": "markdown",
      "metadata": {
        "id": "alEVtjgtl0fx",
        "colab_type": "text"
      },
      "source": [
        "## Modelling for Training"
      ]
    },
    {
      "cell_type": "code",
      "metadata": {
        "id": "soDzqdWpl0fz",
        "colab_type": "code",
        "colab": {}
      },
      "source": [
        "Z = df.drop(columns=['Outlet_Identifier','Item_Identifier','Item_Type',\n",
        "                     'Item_Outlet_Sales','Outlet_Location_Type',\n",
        "                     'Item_Fat_Content'])\n",
        "y = df['Item_Outlet_Sales']"
      ],
      "execution_count": 0,
      "outputs": []
    },
    {
      "cell_type": "code",
      "metadata": {
        "id": "4M46gRWFl0f_",
        "colab_type": "code",
        "colab": {}
      },
      "source": [
        "from sklearn.model_selection import train_test_split\n",
        "X_train, X_test, y_train, y_test = train_test_split(Z, y, test_size=0.2, random_state=69)"
      ],
      "execution_count": 0,
      "outputs": []
    },
    {
      "cell_type": "code",
      "metadata": {
        "id": "ah0RTDxbl0gH",
        "colab_type": "code",
        "colab": {}
      },
      "source": [
        "from sklearn.model_selection import GridSearchCV"
      ],
      "execution_count": 0,
      "outputs": []
    },
    {
      "cell_type": "code",
      "metadata": {
        "id": "76rR1BmNl0gN",
        "colab_type": "code",
        "colab": {}
      },
      "source": [
        "from sklearn.metrics import mean_squared_error"
      ],
      "execution_count": 0,
      "outputs": []
    },
    {
      "cell_type": "code",
      "metadata": {
        "id": "4jncM5Gdl0gR",
        "colab_type": "code",
        "colab": {}
      },
      "source": [
        "import catboost as cb"
      ],
      "execution_count": 0,
      "outputs": []
    },
    {
      "cell_type": "markdown",
      "metadata": {
        "id": "KhWUWwKgl0gZ",
        "colab_type": "text"
      },
      "source": [
        "7,0.02,5,400\n",
        "1024.91"
      ]
    },
    {
      "cell_type": "code",
      "metadata": {
        "id": "aXJHFkdRl0ga",
        "colab_type": "code",
        "colab": {},
        "outputId": "c24ecfcf-0dee-489d-b527-4c653601c722"
      },
      "source": [
        "params = {'depth': [7],\n",
        "          'learning_rate' : [0.02],\n",
        "         'l2_leaf_reg': [5],\n",
        "         'iterations': [400]}\n",
        "cat_boost = cb.CatBoostRegressor(verbose=0)\n",
        "cb_model = GridSearchCV(cat_boost, params, cv = 3, verbose =10, n_jobs=-1)\n",
        "cb_model.fit(X_train, y_train)\n"
      ],
      "execution_count": 0,
      "outputs": [
        {
          "output_type": "stream",
          "text": [
            "Fitting 3 folds for each of 1 candidates, totalling 3 fits\n"
          ],
          "name": "stdout"
        },
        {
          "output_type": "stream",
          "text": [
            "[Parallel(n_jobs=-1)]: Using backend LokyBackend with 4 concurrent workers.\n",
            "[Parallel(n_jobs=-1)]: Done   3 out of   3 | elapsed:   18.8s remaining:    0.0s\n",
            "[Parallel(n_jobs=-1)]: Done   3 out of   3 | elapsed:   18.8s finished\n"
          ],
          "name": "stderr"
        },
        {
          "output_type": "execute_result",
          "data": {
            "text/plain": [
              "GridSearchCV(cv=3, error_score=nan,\n",
              "             estimator=<catboost.core.CatBoostRegressor object at 0x0000023E14FD6A08>,\n",
              "             iid='deprecated', n_jobs=-1,\n",
              "             param_grid={'depth': [7], 'iterations': [400], 'l2_leaf_reg': [5],\n",
              "                         'learning_rate': [0.02]},\n",
              "             pre_dispatch='2*n_jobs', refit=True, return_train_score=False,\n",
              "             scoring=None, verbose=10)"
            ]
          },
          "metadata": {
            "tags": []
          },
          "execution_count": 14
        }
      ]
    },
    {
      "cell_type": "code",
      "metadata": {
        "id": "zS1ArqEFl0gi",
        "colab_type": "code",
        "colab": {},
        "outputId": "30c73dc3-6963-432d-84ff-45c262ce35e7"
      },
      "source": [
        "y_hat = cb_model.predict(X_test)\n",
        "print('MSE =',np.sqrt(mean_squared_error(y_test, y_hat)))"
      ],
      "execution_count": 0,
      "outputs": [
        {
          "output_type": "stream",
          "text": [
            "MSE = 1022.2881752011488\n"
          ],
          "name": "stdout"
        }
      ]
    },
    {
      "cell_type": "code",
      "metadata": {
        "id": "KT_hEmEFl0gn",
        "colab_type": "code",
        "colab": {},
        "outputId": "a1c821b8-4899-4a5f-f968-00e390014d5a"
      },
      "source": [
        "cb_model.best_params_"
      ],
      "execution_count": 0,
      "outputs": [
        {
          "output_type": "execute_result",
          "data": {
            "text/plain": [
              "{'depth': 7, 'iterations': 400, 'l2_leaf_reg': 5, 'learning_rate': 0.02}"
            ]
          },
          "metadata": {
            "tags": []
          },
          "execution_count": 16
        }
      ]
    },
    {
      "cell_type": "code",
      "metadata": {
        "id": "lLG71IQ8l0gw",
        "colab_type": "code",
        "colab": {},
        "outputId": "b35dd0c6-ff4c-4ec5-93ed-20f3c1bbbdc8"
      },
      "source": [
        "pd.Series(cb_model.best_estimator_.feature_importances_,Z.columns).sort_values(ascending=False).plot(kind='bar')"
      ],
      "execution_count": 0,
      "outputs": [
        {
          "output_type": "execute_result",
          "data": {
            "text/plain": [
              "<matplotlib.axes._subplots.AxesSubplot at 0x23e16090948>"
            ]
          },
          "metadata": {
            "tags": []
          },
          "execution_count": 26
        },
        {
          "output_type": "display_data",
          "data": {
            "image/png": "[encoded data removed]",
            "text/plain": [
              "<Figure size 432x288 with 1 Axes>"
            ]
          },
          "metadata": {
            "tags": [],
            "needs_background": "light"
          }
        }
      ]
    },
    {
      "cell_type": "code",
      "metadata": {
        "id": "07QmAV2zl0g6",
        "colab_type": "code",
        "colab": {}
      },
      "source": [
        "test = pd.read_csv(\"bmtest.csv\")\n"
      ],
      "execution_count": 0,
      "outputs": []
    },
    {
      "cell_type": "code",
      "metadata": {
        "id": "fRkrAZWvl0hD",
        "colab_type": "code",
        "colab": {}
      },
      "source": [
        "test['Item_Fat_Content'].replace(['Low Fat','LF','low fat'],1,inplace=True)\n",
        "test['Item_Fat_Content'].replace(['Regular','reg'],2,inplace=True)\n",
        "test['Outlet_Establishment_Year'] = current_year - test['Outlet_Establishment_Year'] \n",
        "test['Outlet_Size'].replace({'Small':1,'Medium':2,'High':3},inplace=True)\n",
        "test['Outlet_Location_Type'].replace({'Tier 1':1,'Tier 2':2,'Tier 3':3},inplace=True)\n",
        "test['Outlet_Type'].replace({'Grocery Store':1,'Supermarket Type1':2,'Supermarket Type2':3,'Supermarket Type3':4},inplace=True)\n",
        "test['Item_Visibility'].replace(0,pd.NA,inplace=True)\n",
        "test['Outlet'] = le.fit_transform(test['Outlet_Identifier'])"
      ],
      "execution_count": 0,
      "outputs": []
    },
    {
      "cell_type": "code",
      "metadata": {
        "id": "KGzuEt1cl0hJ",
        "colab_type": "code",
        "colab": {}
      },
      "source": [
        "a = imputer.fit_transform(test.drop(columns=['Item_Identifier','Outlet_Identifier','Item_Type']))\n",
        "\n",
        "'''categorical column whose values needed to be rounded off'''\n",
        "c_cat = pd.DataFrame(np.round(a[:,5]),columns=['Outlet_Size'])\n",
        "\n",
        "'''non-categorical columns where value do not need to be and'''\n",
        "c_ncat = pd.DataFrame(a[:,[0,2]],columns=['Item_Weight','Item_Visibility'])\n",
        "\n",
        "test[['Item_Weight','Item_Visibility']] = c_ncat[['Item_Weight','Item_Visibility']]\n",
        "test[['Outlet_Size']] = c_cat[['Outlet_Size']]"
      ],
      "execution_count": 0,
      "outputs": []
    },
    {
      "cell_type": "code",
      "metadata": {
        "id": "N4qimu2wl0hS",
        "colab_type": "code",
        "colab": {}
      },
      "source": [
        "#test = pd.DataFrame(np.round(imputer.fit_transform(test.drop(columns=['Item_Identifier','Outlet_Identifier','Item_Type']))),\n",
        "                   #columns = test.drop(columns=['Item_Identifier','Outlet_Identifier','Item_Type']).columns)\n"
      ],
      "execution_count": 0,
      "outputs": []
    },
    {
      "cell_type": "code",
      "metadata": {
        "id": "ESXtdamOl0hZ",
        "colab_type": "code",
        "colab": {}
      },
      "source": [
        "for var in ['Outlet_Type']:   \n",
        "    d = test[var].value_counts().to_dict()\n",
        "    c_string = var + '_Count'\n",
        "    test[c_string] = test[var].map(d)"
      ],
      "execution_count": 0,
      "outputs": []
    },
    {
      "cell_type": "code",
      "metadata": {
        "id": "0nM8WYAOl0hi",
        "colab_type": "code",
        "colab": {}
      },
      "source": [
        "test=pd.get_dummies(test,columns=['Outlet_Type','Outlet','Outlet_Size']) "
      ],
      "execution_count": 0,
      "outputs": []
    },
    {
      "cell_type": "markdown",
      "metadata": {
        "id": "yIp4zy8Ul0hs",
        "colab_type": "text"
      },
      "source": [
        "## Modelling for testing"
      ]
    },
    {
      "cell_type": "code",
      "metadata": {
        "id": "ii0nn73Tl0hu",
        "colab_type": "code",
        "colab": {}
      },
      "source": [
        "Z_test = test.drop(columns=['Item_Identifier','Item_Fat_Content','Outlet_Location_Type',\n",
        "                            'Item_Type','Outlet_Identifier'])"
      ],
      "execution_count": 0,
      "outputs": []
    },
    {
      "cell_type": "code",
      "metadata": {
        "id": "dtODoEQCl0h1",
        "colab_type": "code",
        "colab": {},
        "outputId": "b85d4406-456a-46f8-cb18-02ed2e9e17c8"
      },
      "source": [
        "cb_model.fit(Z,y)\n",
        "Yhat = cb_model.predict(Z_test)"
      ],
      "execution_count": 0,
      "outputs": [
        {
          "output_type": "stream",
          "text": [
            "Fitting 3 folds for each of 1 candidates, totalling 3 fits\n"
          ],
          "name": "stdout"
        },
        {
          "output_type": "stream",
          "text": [
            "[Parallel(n_jobs=-1)]: Using backend LokyBackend with 4 concurrent workers.\n",
            "[Parallel(n_jobs=-1)]: Done   3 out of   3 | elapsed:   11.7s remaining:    0.0s\n",
            "[Parallel(n_jobs=-1)]: Done   3 out of   3 | elapsed:   11.7s finished\n"
          ],
          "name": "stderr"
        }
      ]
    },
    {
      "cell_type": "code",
      "metadata": {
        "id": "FuzxGPWrl0h8",
        "colab_type": "code",
        "colab": {},
        "outputId": "4461b8cd-2fe6-4c92-8dfa-484398a5a34c"
      },
      "source": [
        "df3 = pd.read_csv(\"bmtest.csv\")\n",
        "df1 = pd.DataFrame(Yhat)\n",
        "df2 = pd.concat([df3[['Item_Identifier','Outlet_Identifier']], df1], axis=1)\n",
        "df2.rename(columns={0: 'Item_Outlet_Sales'}, inplace=True)\n",
        "df2.head()"
      ],
      "execution_count": 0,
      "outputs": [
        {
          "output_type": "execute_result",
          "data": {
            "text/html": [
              "<div>\n",
              "<style scoped>\n",
              "    .dataframe tbody tr th:only-of-type {\n",
              "        vertical-align: middle;\n",
              "    }\n",
              "\n",
              "    .dataframe tbody tr th {\n",
              "        vertical-align: top;\n",
              "    }\n",
              "\n",
              "    .dataframe thead th {\n",
              "        text-align: right;\n",
              "    }\n",
              "</style>\n",
              "<table border=\"1\" class=\"dataframe\">\n",
              "  <thead>\n",
              "    <tr style=\"text-align: right;\">\n",
              "      <th></th>\n",
              "      <th>Item_Identifier</th>\n",
              "      <th>Outlet_Identifier</th>\n",
              "      <th>Item_Outlet_Sales</th>\n",
              "    </tr>\n",
              "  </thead>\n",
              "  <tbody>\n",
              "    <tr>\n",
              "      <th>0</th>\n",
              "      <td>FDW58</td>\n",
              "      <td>OUT049</td>\n",
              "      <td>1696.631238</td>\n",
              "    </tr>\n",
              "    <tr>\n",
              "      <th>1</th>\n",
              "      <td>FDW14</td>\n",
              "      <td>OUT017</td>\n",
              "      <td>1343.827184</td>\n",
              "    </tr>\n",
              "    <tr>\n",
              "      <th>2</th>\n",
              "      <td>NCN55</td>\n",
              "      <td>OUT010</td>\n",
              "      <td>953.061644</td>\n",
              "    </tr>\n",
              "    <tr>\n",
              "      <th>3</th>\n",
              "      <td>FDQ58</td>\n",
              "      <td>OUT017</td>\n",
              "      <td>2504.159881</td>\n",
              "    </tr>\n",
              "    <tr>\n",
              "      <th>4</th>\n",
              "      <td>FDY38</td>\n",
              "      <td>OUT027</td>\n",
              "      <td>5425.939370</td>\n",
              "    </tr>\n",
              "  </tbody>\n",
              "</table>\n",
              "</div>"
            ],
            "text/plain": [
              "  Item_Identifier Outlet_Identifier  Item_Outlet_Sales\n",
              "0           FDW58            OUT049        1696.631238\n",
              "1           FDW14            OUT017        1343.827184\n",
              "2           NCN55            OUT010         953.061644\n",
              "3           FDQ58            OUT017        2504.159881\n",
              "4           FDY38            OUT027        5425.939370"
            ]
          },
          "metadata": {
            "tags": []
          },
          "execution_count": 24
        }
      ]
    },
    {
      "cell_type": "code",
      "metadata": {
        "id": "bt0CZee0l0iC",
        "colab_type": "code",
        "colab": {}
      },
      "source": [
        "export_csv = df2.to_csv(r'C:\\Users\\DELL\\ipynb notebooks\\Submission_bigm.csv', index = None, header=True)"
      ],
      "execution_count": 0,
      "outputs": []
    },
    {
      "cell_type": "code",
      "metadata": {
        "id": "o0PeSAqPl0iM",
        "colab_type": "code",
        "colab": {}
      },
      "source": [
        ""
      ],
      "execution_count": 0,
      "outputs": []
    }
  ]
}